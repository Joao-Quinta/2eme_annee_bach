{
 "cells": [
  {
   "cell_type": "markdown",
   "metadata": {},
   "source": [
    "# Chaînes de Markov\n",
    "\n",
    "Nous étudierons des chaînes de Markov. Une chaîne de Markov est un modèle probabiliste relativement simple mais très puissant. Nous allons créer un modèle simple pour étudier le temps, et pour synthétiser le langage naturel. \n",
    "\n",
    "Un chaîne de Markov est une suite $X_0,X_1,X_2,\\dots$ de variables aléatoires à valeurs dans un espace d'états discrets $E=\\{0,1,\\dots,k\\}$. On peut l'interpréter commme un processus dont l'état  est $X_i$ au temps $t=i$. Nous étudions la probabilité\n",
    "$$ P(X_n = i \\mid X_0=i_0,X_1=i_1,\\dots,X_{n-1}=i_{n-1}). $$\n",
    "Si les variables sont indépendantes cette probabilité est égale à $P(X_n=i)$ mais ce n'est pas très intéressant. Au lieu de cela, nous supposons que \n",
    "$$ P(X_n = i \\mid X_0=i_0,X_1=i_1,\\dots,X_{n-1}=i_{n-1}) = P(X_n = i \\mid X_{n-1}=i_{n-1}), $$\n",
    "c'est-à-dire, si on veut prédire $X_n$ sur la base de l'histoire des états, il suffit seulement de connaître l'état précédent."
   ]
  },
  {
   "cell_type": "markdown",
   "metadata": {},
   "source": [
    "# Exercice 1\n",
    "### Modèles météorologiques et distributions stationnaires\n",
    "\n",
    "On considère un exemple. Supposons que le temps du jour suivant dépend seulement du temps de la veille. Supposons aussi qu'il y a seulement trois types de temps: ensoleillé, couvert ou pluvieux (E, C, P). On a les informations suivantes:\n",
    "- Si aujourd'hui est ensoleillé, demain c'est aussi ensoleillé avec p=0.7, couvert avec p=0.2, et pluvieux avec p=0.1\n",
    "- Si aujourd'hui est couvert, demain c'est aussi couvert avec p=0.5, ensoleillé avec p=0.25, et pluvieux avec p=0.25\n",
    "- Si aujourd'hui est pluvieux, demain c'est aussi pluvieux avec p=0.4, ensoleillé avec p=0.4, et couvert avec p=0.2\n",
    "\n",
    "On met ces informations dans une matrice:\n",
    "$$\n",
    "    P = \\begin{pmatrix}\n",
    "        0.7 & 0.2 & 0.1\\\\\n",
    "        0.25 & 0.5 & 0.25\\\\\n",
    "        0.2 & 0.4 & 0.4\n",
    "    \\end{pmatrix}\n",
    "$$\n",
    "Dénotons la temps du jour $n$ par $X_n$. Les variables aléatoires $\\{X_n\\}_{n\\in\\mathbb N}$ forment une chaîne de Markov. La matrice $P$ représente les probabilités de transition. C'est-à-dire, $P_{ij} = P(X_n=j\\mid X_{n-1}=i)$, la probabilité de transiter de l'état $i$ à l'état $j$. Notons que la somme des lignes de cette matrice sont toutes égales à 1. C'est parce que $\\sum_jP_{ij} = \\sum_j P(X_n=j\\mid X_{n-1}=i) = 1$.\n"
   ]
  },
  {
   "cell_type": "code",
   "execution_count": 1,
   "metadata": {},
   "outputs": [],
   "source": [
    "import numpy as np # on va utiliser numpy pour des calculs numériques\n",
    "\n",
    "# La matrice de transitions\n",
    "Pij = np.array([[0.7,0.2,0.1],[0.25,0.5,0.25],[0.2,0.4,0.4]])\n",
    "\n",
    "# On assigne un numéro de chaque état\n",
    "states_dictionary = {'E':0, 'C':1 ,'P':2}\n",
    "states = ['E','C','P']\n",
    "\n",
    "def simulate_weather(n=100, initial_state = 'E'):\n",
    "    \"\"\"Donne un simulation de temps pour `n` jours avec état initial `initial_state`\"\"\"\n",
    "    \n",
    "    current_state = states_dictionary[initial_state] # état actuel \n",
    "    output_states = [initial_state] # liste de tous les états\n",
    "    for i in range(n):\n",
    "        transition_probabilities = Pij[current_state] # obtenir probabilités de transition\n",
    "        \n",
    "        # échantillonner la distribution multinomiale\n",
    "        current_state = np.random.choice(range(3),p=transition_probabilities)\n",
    "        \n",
    "        # ajoute le nouvel état à la liste\n",
    "        output_states.append(states[current_state])\n",
    "    return output_states"
   ]
  },
  {
   "cell_type": "code",
   "execution_count": 2,
   "metadata": {},
   "outputs": [
    {
     "name": "stdout",
     "output_type": "stream",
     "text": [
      "['E', 'E', 'E', 'E', 'E', 'E', 'E', 'P', 'C', 'C', 'C', 'P', 'C', 'P', 'C', 'P', 'P', 'E', 'E', 'E', 'E']\n"
     ]
    }
   ],
   "source": [
    "print(simulate_weather(n=20,initial_state='E'))"
   ]
  },
  {
   "cell_type": "markdown",
   "metadata": {},
   "source": [
    "## Exercice 1 a)\n",
    "> Écrire une fonction `fraction_count` qui calcule la fraction d'occurence de tous les élements d'une liste. La fonction doit renvoyer le résultat comme un dictionnaire.\n",
    "\n",
    "Exemple: `fraction_count(['A', 'B', 'A', 'C'])` doit renvoyer `{'A':0.5, 'B':0.25, 'C':0.25}`."
   ]
  },
  {
   "cell_type": "code",
   "execution_count": 3,
   "metadata": {},
   "outputs": [],
   "source": [
    "def fraction_count(input_list):\n",
    "    \"\"\"Renvoie la fraction de tous les élements de input_list comme un dictionnaire\"\"\"\n",
    "    fractions = dict()\n",
    "    total_length = len(input_list)\n",
    "    \n",
    "    \n",
    "#on regarde chaque élément dans l'input_list\n",
    "    for element in input_list :\n",
    "        #on crée un compteur qui va compter le nombre de répétitions de l'élément dans la liste input_liste\n",
    "        compteur = 0\n",
    "        #pour le chaque élément de input_liste on va parcourir tous les éléments de la input_liste\n",
    "        for elementCopie in input_list :\n",
    "            #on incrémente le compteur à chaque fois que l'élément apparaît dans la liste\n",
    "            if element == elementCopie :\n",
    "                compteur +=1\n",
    "        #on calcule le nombre d'apparitions de l'élément par rapport au nombre d'éléments total dans la liste\n",
    "        nombreApparition = compteur/total_length\n",
    "        #on ajoute l'élément et son nombre d'apparition dans le dictionnaire\n",
    "        fractions[element] = nombreApparition\n",
    "\n",
    "    \n",
    "    return fractions"
   ]
  },
  {
   "cell_type": "code",
   "execution_count": 4,
   "metadata": {
    "scrolled": true
   },
   "outputs": [
    {
     "name": "stdout",
     "output_type": "stream",
     "text": [
      "Le code passe tous les tests !\n"
     ]
    }
   ],
   "source": [
    "# Tests vérifiants si votre code est correct\n",
    "l = [1,2,4,1,2,'A','B',1]\n",
    "if fraction_count(l)[1]!=0.375:\n",
    "    print('Le code n\\'est pas correct')\n",
    "elif sum(fraction_count(l).values())!=1.0:\n",
    "    print('Le code n\\'est pas correct. La somme des fractions doit être égal a 1')\n",
    "else:\n",
    "    print('Le code passe tous les tests !')"
   ]
  },
  {
   "cell_type": "markdown",
   "metadata": {},
   "source": [
    "Avec cette fonction, on peut afficher la distribution comme un diagramme circulaire."
   ]
  },
  {
   "cell_type": "code",
   "execution_count": 5,
   "metadata": {},
   "outputs": [
    {
     "name": "stdout",
     "output_type": "stream",
     "text": [
      "{'E': 0.44845515448455153, 'C': 0.34906509349065096, 'P': 0.2024797520247975}\n"
     ]
    }
   ],
   "source": [
    "import matplotlib.pyplot as plt\n",
    "\n",
    "fractions = fraction_count(simulate_weather(n=10000))\n",
    "print(fractions)\n",
    "\n",
    "plt.pie(fractions.values(),labels=fractions.keys(),autopct='%1.1f%%');"
   ]
  },
  {
   "cell_type": "markdown",
   "metadata": {},
   "source": [
    "Nous avons obtenu la distribution  $v=(v_0,v_1,v_2)$  de tous les types de temps. Cette distribution est appelée la distribution stationnaire de la chaîne $\\{X_n\\}$. Ce distribution satisfait $P^\\top v=v$, où $P^\\top$ est la transposée de la matrice de transition. On va vérifier cette propriété:"
   ]
  },
  {
   "cell_type": "code",
   "execution_count": 6,
   "metadata": {},
   "outputs": [
    {
     "name": "stdout",
     "output_type": "stream",
     "text": [
      "Succès ; Pv = v\n"
     ]
    }
   ],
   "source": [
    "# réordonner la liste\n",
    "fractions_ordered = np.array([fractions['E'], fractions['C'], fractions['P']])\n",
    "\n",
    "differences = np.transpose(Pij)@fractions_ordered-fractions_ordered\n",
    "\n",
    "norm = np.linalg.norm(differences)\n",
    "if norm<0.05:\n",
    "    print('Succès ; Pv = v')\n",
    "else:\n",
    "    print('Pv != v, vérifier le code. ')"
   ]
  },
  {
   "cell_type": "markdown",
   "metadata": {},
   "source": [
    "## Exercice 1 b)\n",
    "\n",
    "C'est possible d'obtenir la distribution stationnaire directement à partir de la matrice $P$. Notez que $P^\\top v=v$ est équivalent à trouver un vecteur propre de $P$ avec valeur propre égale à 1. \n",
    "> En utilisant `numpy.linalg.eig`, trouvez la distribution stationnaire. Notez que `numpy.linalg.eig` renvoie des vecteurs propres avec longueur 1, mais pour trouver une distribution nous avons besoin de vecteurs avec somme égale à 1. On a donc besoin de renormaliser. N'oubliez pas de transposer la matrice `Pij` en utilisant `np.transpose`. "
   ]
  },
  {
   "cell_type": "code",
   "execution_count": 11,
   "metadata": {},
   "outputs": [
    {
     "name": "stdout",
     "output_type": "stream",
     "text": [
      "les valeurs propres sont :  [1.         0.47320508 0.12679492]\n",
      "Succès !\n"
     ]
    }
   ],
   "source": [
    "# Écrivez votre code dessus\n",
    "# --------------------------------------------\n",
    "import numpy as np\n",
    "#on stock les valeurs propre de la transposé de P dans \"valpropre\" et les vecteurs propres correspondants dans \"v\"\n",
    "valpropre, v = np.linalg.eig(np.transpose(Pij))\n",
    "#on affiche les valeur propre pour voir laquelle est = 1\n",
    "print(\"les valeurs propres sont : \",valpropre)\n",
    "v = v/sum(v)\n",
    "#on remarque en print(valpropre) que la valeur propre en position[0] est = 1, et elle correspond au vecteur propre v[:,0] donc le premier vecteur propre de v\n",
    "v = v[:,0]\n",
    "# Tests vérifiants si la distribution stationnaire est correcte\n",
    "differences = np.transpose(Pij)@v-v\n",
    "norm = np.linalg.norm(differences)\n",
    "if norm>1e-6:\n",
    "    print('La vecteur n\\'est pas un vecteur propre avec valeur propre 1.')\n",
    "elif abs(sum(v)-1)>1e-6:\n",
    "    print('La somme du vecteur n\\'est pas égale a 1')\n",
    "else:\n",
    "    print('Succès !')"
   ]
  },
  {
   "cell_type": "markdown",
   "metadata": {},
   "source": [
    "## Exercice 1 c)\n",
    "\n",
    "On peut aussi obtenir la distribution stationnaire en calculant la puissance $(P^n)$. Notez que si $P^\\top v=v$, on a aussi $(P^n)^\\top v =v$ pour tout $n$. Ci-dessous on a calculé $P^{10}$."
   ]
  },
  {
   "cell_type": "code",
   "execution_count": null,
   "metadata": {},
   "outputs": [],
   "source": [
    "# Calculer la puissance d'une matrice\n",
    "np.linalg.matrix_power(Pij,10)"
   ]
  },
  {
   "cell_type": "markdown",
   "metadata": {},
   "source": [
    "> Notez que toutes les rangées de $P^{10}$ sont proches de la distribution stationnaire. \n",
    " Expliquez ce phénomène ci dessus en texte. Encapsulez du texte entre deux signes dollar `$ $` pour écrire des maths."
   ]
  },
  {
   "cell_type": "markdown",
   "metadata": {},
   "source": [
    "__VOTRE RESPONSE:__\n",
    "_______\n",
    "\n",
    "> <span style=\"color:red\">On sait que si la distribution limmite existe elle est stationnaires, et que cette limmite est egale une matice de transition dont toutes les lignes sont égales entre elles. On a donc que une ligne de cette marice est la distribution stationnaire. C'est pour ça que dans la matice ci-dessus (avec n assez grand) les lignes tendent vers la distribution stationnaire.</span>"
   ]
  },
  {
   "cell_type": "markdown",
   "metadata": {},
   "source": [
    "_____"
   ]
  },
  {
   "cell_type": "markdown",
   "metadata": {},
   "source": [
    "# Exercice 2\n",
    "### Modèles de langage naturel avec des chaînes de Markov"
   ]
  },
  {
   "cell_type": "markdown",
   "metadata": {},
   "source": [
    "On peut simuler du langage naturel avec des chaînes de Markov. Le texte n'est qu'une suite de lettres $s_0s_1\\dots s_n$, avec $s_i$ des lettres comme a,b,c, et de la ponctuation. Une modèle naïf de texte est donc un chaîne de Markov avec $X_n$ le $n$ième lettre de texte. La propriété de Markov\n",
    "$$P(X_n = i \\mid X_0=i_0,X_1=i_1,\\dots,X_{n-1}=i_n) = P(X_n = i \\mid X_{n-1}=i_{n-1})$$\n",
    "n'est pas réaliste, mais on peut voir ce qui se passe quand on suppose cela. \n",
    "\n",
    "Pour estimer les probabilités de transition $P_{ij}=P(X_n = i \\mid X_{n-1}=i_{n-1})$ on va utiliser du texte. La probabilité $P_{ij}$ est égale à la fraction de fois que la lettre $i$ suit la lettre $j$ dans notre texte. C'est-à-dire\n",
    "$$\n",
    "P_{ij} = \\frac{\\#\\{j\\mid \\text{$j$ apparaît dans le texte, et la lettre précédente est $i$}\\}}{\n",
    "\\#\\{i\\mid \\text{$i$ apparaît} \\}}\n",
    "$$\n",
    "\n",
    "On va utiliser les poésies complètes d'Arthur Rimbaud.\n",
    "\n",
    "Le texte est disponible en ligne:\n",
    "http://www.gutenberg.org/ebooks/29302\n",
    "\n",
    "D'abord on va analyser un petit peu le fichier de texte."
   ]
  },
  {
   "cell_type": "code",
   "execution_count": null,
   "metadata": {
    "scrolled": false
   },
   "outputs": [],
   "source": [
    "# Prétraitement de texte. Nous voulons seulement les lignes de texte avec de la poésie. \n",
    "with open('rimbaud.txt',encoding='utf8') as file_read:\n",
    "    with open('rimbaud_edited.txt','w',encoding='utf8') as file_write:\n",
    "        for line in file_read:\n",
    "            if line[:4]=='    ':  # on voit que seulement ces lignes sont de la poésie\n",
    "                line_edited = line.lower()  # seulement lettres minuscules \n",
    "                line_edited= ' '.join(line_edited.split())  # supprimer les espaces non-utilisés\n",
    "                line_edited = ''.join([c for c in line_edited if c not in ['_','-']])\n",
    "                \n",
    "                if line_edited == 'préface': # tout le texte suivant `préface' n'est pas intéressant\n",
    "                    break\n",
    "                if line_edited[:4]!='. . ': # quelques lignes composées seulement de points\n",
    "                    file_write.write(line_edited+'\\n')  # écrire des lignes bonnes dans un fichier"
   ]
  },
  {
   "cell_type": "markdown",
   "metadata": {},
   "source": [
    "On regarde quelles lettres il y a dans le fichier, et on va donner à chaque lettre un numéro unique. "
   ]
  },
  {
   "cell_type": "code",
   "execution_count": null,
   "metadata": {},
   "outputs": [],
   "source": [
    "# Donner à chaque lettre un numéro unique dans un dictionnaire\n",
    "character_dic = dict()\n",
    "\n",
    "# Compter le nombre de lettres différentes \n",
    "character_count = 0\n",
    "\n",
    "with open('rimbaud_edited.txt',encoding='utf8') as f:\n",
    "    for line in f:\n",
    "        for c in line:\n",
    "            if c not in character_dic: # si la lettre n'es pas encore connue\n",
    "                character_dic[c] = character_count # donne à la lettre son numéro\n",
    "                character_count+=1\n",
    "                \n",
    "# faire une liste de toutes les lettres\n",
    "characters = list(character_dic.keys())\n",
    "                \n",
    "print('Il y a %d lettres différentes dans la texte:\\n' % character_count)\n",
    "print(character_dic)"
   ]
  },
  {
   "cell_type": "markdown",
   "metadata": {},
   "source": [
    "Il y a 52 lettres différentes. La matrice de transition va donc être $52\\times 52$. Nous pouvons réduire un petit peu les dimensions en supprimant les lettres pas importantes comme `[`et `]`, mais ce n'est pas très important."
   ]
  },
  {
   "cell_type": "markdown",
   "metadata": {},
   "source": [
    "## Exercice 2 a) \n",
    "> Écrivez du code qui compte toutes les fois où la lettre $i$ suit la lettre $j$ dans le texte pour tous $i$, $j$. On va mettre les taux dans un matrice `Pij_lang`. "
   ]
  },
  {
   "cell_type": "code",
   "execution_count": null,
   "metadata": {},
   "outputs": [],
   "source": [
    "Pij_lang = np.zeros((character_count, character_count),dtype=np.int32)\n",
    "with open('rimbaud_edited.txt',encoding='utf8') as f:\n",
    "    buffer = f.read()  # un chaîne de caractères qui contient le fichier entier   \n",
    "    \n",
    "    # Écrivez votre code dessus\n",
    "    #for c in buffer:\n",
    "    for c in range(0,len(buffer)-1):\n",
    "        i=character_dic[buffer[c]]\n",
    "        j=character_dic[buffer[c+1]]\n",
    "        Pij_lang[i][j]+=1\n",
    "        \n",
    "# renormaliser la matrice pour que la somme de toutes les rangées soit 1.\n",
    "Pij_lang=Pij_lang/Pij_lang.sum(axis=1)[:,None]\n",
    "\n",
    "# quelques tests pour confirmer que le code est correct\n",
    "assert abs(np.mean(Pij_lang)-0.019230769230769232)<0.01\n",
    "assert abs(np.trace(Pij_lang)-0.8163083883466542)<0.01\n",
    "assert abs(np.std(Pij_lang)-np.std(Pij_lang))<0.01"
   ]
  },
  {
   "cell_type": "markdown",
   "metadata": {},
   "source": [
    "Avec la matrice de transition on peut produire du texte synthétique pour simuler la chaîne de Markov comme avant. "
   ]
  },
  {
   "cell_type": "code",
   "execution_count": null,
   "metadata": {},
   "outputs": [],
   "source": [
    "def generate_text(n=100, initial_state = '\\n'):\n",
    "    current_state = character_dic[initial_state]\n",
    "    output_states = []\n",
    "    for i in range(n):\n",
    "        transition_probabilities = Pij_lang[current_state]\n",
    "        current_state = np.random.choice(range(character_count),p=transition_probabilities)\n",
    "        output_states.append(characters[current_state])\n",
    "    return ''.join(output_states)\n",
    "print(generate_text(200))"
   ]
  },
  {
   "cell_type": "markdown",
   "metadata": {},
   "source": [
    "Le texte généré n'est pas encore très bon. La majorité des mots produits n'existent pas. \n",
    "\n",
    "On peut améliorer la modèle en relaxant la propriété de Markov. On suppose que la $n$ième lettre dépend des $k$ lettres précédentes, et pas seulement de la seule lettre avant. C'est-à-dire, on suppose que\n",
    "$$P(X_n = i \\mid X_0=i_0,X_1=i_1,\\dots,X_{n-1}=i_n) = P(X_n = i \\mid X_{n-k}=i_{n-k},\\dots, X_{n-1}=i_{n-1}).$$\n",
    "En pratique $k=3$ ou $k=4$. Quand $k>1$ il y a un bonne définition de matrice de transition, mais elle n'est plus carrée. Supposons que $k=3$, les autres cas sont similaires. On peut définir \n",
    "$$P_{(i_1,i_2,i_3),j} = P(X_n = j \\mid X_{n-3}=i_{1},X_{n-2}=i_{2},X_{n-1}=i_{3}).$$\n",
    "Ici $(i_1,i_2,i_3)$ est une suite de trois lettres. Car il y a $52^3 = 14 0608$ séquences comme ça, donc la matrice est $140608\\times 52$. C'est un peu grand, donc on a besoin d'utiliser des matrices creuses. Les matrices creuses conservent seulement les entrées de matrice non-nulles, et utilisent beaucoup moins de mémoire.  \n"
   ]
  },
  {
   "cell_type": "markdown",
   "metadata": {},
   "source": [
    "## Exercice 2 b)\n",
    "> Écrivez un code qui compte le nombre total de transitions $(i_1,i_2,i_3,...)\\to j$ dans le texte en une matrice creuse. Comptez aussi la fréquence de toutes les lettres individuelles."
   ]
  },
  {
   "cell_type": "code",
   "execution_count": null,
   "metadata": {},
   "outputs": [],
   "source": [
    "from scipy.sparse import dok_matrix, csr_matrix # pour utiliser des matrices creuses\n",
    "\n",
    "# Le paramètre k\n",
    "TIME_HORIZON = 4\n",
    "\n",
    "def chars_to_index(chars):\n",
    "    \"\"\"convertir une suite de lettres (i_1,...,i_k) en indice de matrice\"\"\"\n",
    "    index = 0\n",
    "    for i,c in enumerate(chars):\n",
    "        index+=character_dic[c]*(character_count**i)\n",
    "    return index\n",
    "\n",
    "# Initialisez la matrice creuse\n",
    "# La taille est 52^k x 52\n",
    "Pij_sparse = dok_matrix((character_count**TIME_HORIZON,character_count))\n",
    "\n",
    "# Comptez aussi la fréquence de toutes les lettres individuelles\n",
    "character_frequencies = np.zeros(character_count)\n",
    "with open('rimbaud_edited.txt',encoding='utf8') as f:\n",
    "    buffer = f.read()\n",
    "    prev_chars = buffer[:TIME_HORIZON]\n",
    "    for c in buffer[1:]:\n",
    "        j = character_dic[c]\n",
    "        i = chars_to_index(prev_chars)\n",
    "        \n",
    "        character_frequencies[j] +=1\n",
    "\n",
    "        Pij_sparse[i,j] += 1\n",
    "        \n",
    "        prev_chars = prev_chars[1:]+c\n",
    "\n",
    "# renormaliser\n",
    "character_frequencies=character_frequencies/character_frequencies.sum()\n",
    "\n",
    "Pij_sparse=Pij_sparse.tocsr() # Convertir en un format de matrice creuse plus vite"
   ]
  },
  {
   "cell_type": "markdown",
   "metadata": {},
   "source": [
    "Comme avant, avec la matrice de transition on peut produire du texte en simulant la chaîne de Markov. "
   ]
  },
  {
   "cell_type": "code",
   "execution_count": 8,
   "metadata": {},
   "outputs": [],
   "source": [
    "def get_probs(chars):\n",
    "    \"\"\"renvoyez la rangée de matrice de transition à partir d'un suite de lettres\"\"\"\n",
    "    row = np.array(Pij_sparse[chars_to_index(chars)].todense())\n",
    "    row = row.reshape(-1)\n",
    "    row_sum = row.sum()\n",
    "    if row_sum == 0:  # Si la suite est inconnue, renvoyer les fréquences globales.\n",
    "        return character_frequencies\n",
    "    else:\n",
    "        return row/row_sum"
   ]
  },
  {
   "cell_type": "code",
   "execution_count": 9,
   "metadata": {},
   "outputs": [
    {
     "ename": "NameError",
     "evalue": "name 'TIME_HORIZON' is not defined",
     "output_type": "error",
     "traceback": [
      "\u001b[1;31m---------------------------------------------------------------------------\u001b[0m",
      "\u001b[1;31mNameError\u001b[0m                                 Traceback (most recent call last)",
      "\u001b[1;32m<ipython-input-9-b4dc8b92660e>\u001b[0m in \u001b[0;36m<module>\u001b[1;34m\u001b[0m\n\u001b[1;32m----> 1\u001b[1;33m \u001b[1;32mdef\u001b[0m \u001b[0mgenerate_text\u001b[0m\u001b[1;33m(\u001b[0m\u001b[0mn\u001b[0m\u001b[1;33m=\u001b[0m\u001b[1;36m100\u001b[0m\u001b[1;33m,\u001b[0m \u001b[0minitial_state\u001b[0m \u001b[1;33m=\u001b[0m \u001b[1;34m'\\n'\u001b[0m\u001b[1;33m*\u001b[0m\u001b[0mTIME_HORIZON\u001b[0m\u001b[1;33m)\u001b[0m\u001b[1;33m:\u001b[0m\u001b[1;33m\u001b[0m\u001b[1;33m\u001b[0m\u001b[0m\n\u001b[0m\u001b[0;32m      2\u001b[0m     \u001b[0mcurrent_state\u001b[0m \u001b[1;33m=\u001b[0m \u001b[0minitial_state\u001b[0m\u001b[1;33m\u001b[0m\u001b[1;33m\u001b[0m\u001b[0m\n\u001b[0;32m      3\u001b[0m     \u001b[0moutput_states\u001b[0m \u001b[1;33m=\u001b[0m \u001b[1;33m[\u001b[0m\u001b[1;33m]\u001b[0m\u001b[1;33m\u001b[0m\u001b[1;33m\u001b[0m\u001b[0m\n\u001b[0;32m      4\u001b[0m     \u001b[1;32mfor\u001b[0m \u001b[0mi\u001b[0m \u001b[1;32min\u001b[0m \u001b[0mrange\u001b[0m\u001b[1;33m(\u001b[0m\u001b[0mn\u001b[0m\u001b[1;33m)\u001b[0m\u001b[1;33m:\u001b[0m\u001b[1;33m\u001b[0m\u001b[1;33m\u001b[0m\u001b[0m\n\u001b[0;32m      5\u001b[0m         \u001b[0mtransition_probabilities\u001b[0m \u001b[1;33m=\u001b[0m \u001b[0mget_probs\u001b[0m\u001b[1;33m(\u001b[0m\u001b[0mcurrent_state\u001b[0m\u001b[1;33m)\u001b[0m\u001b[1;33m\u001b[0m\u001b[1;33m\u001b[0m\u001b[0m\n",
      "\u001b[1;31mNameError\u001b[0m: name 'TIME_HORIZON' is not defined"
     ]
    }
   ],
   "source": [
    "def generate_text(n=100, initial_state = '\\n'*TIME_HORIZON):\n",
    "    current_state = initial_state\n",
    "    output_states = []\n",
    "    for i in range(n):\n",
    "        transition_probabilities = get_probs(current_state)\n",
    "        new_index = np.random.choice(range(character_count),p=transition_probabilities)\n",
    "        new_char = characters[new_index]\n",
    "        output_states.append(new_char)\n",
    "        current_state = current_state[1:]+new_char\n",
    "    return ''.join(output_states)"
   ]
  },
  {
   "cell_type": "code",
   "execution_count": 10,
   "metadata": {
    "scrolled": false
   },
   "outputs": [
    {
     "ename": "NameError",
     "evalue": "name 'generate_text' is not defined",
     "output_type": "error",
     "traceback": [
      "\u001b[1;31m---------------------------------------------------------------------------\u001b[0m",
      "\u001b[1;31mNameError\u001b[0m                                 Traceback (most recent call last)",
      "\u001b[1;32m<ipython-input-10-c078d80a7cb1>\u001b[0m in \u001b[0;36m<module>\u001b[1;34m\u001b[0m\n\u001b[1;32m----> 1\u001b[1;33m \u001b[0mprint\u001b[0m\u001b[1;33m(\u001b[0m\u001b[0mgenerate_text\u001b[0m\u001b[1;33m(\u001b[0m\u001b[0mn\u001b[0m\u001b[1;33m=\u001b[0m\u001b[1;36m1000\u001b[0m\u001b[1;33m)\u001b[0m\u001b[1;33m)\u001b[0m\u001b[1;33m\u001b[0m\u001b[1;33m\u001b[0m\u001b[0m\n\u001b[0m",
      "\u001b[1;31mNameError\u001b[0m: name 'generate_text' is not defined"
     ]
    }
   ],
   "source": [
    "print(generate_text(n=1000))"
   ]
  },
  {
   "cell_type": "markdown",
   "metadata": {},
   "source": [
    "On voit que le texte généré est mieux. Ce n'est pas encore de la poésie, mais la majorité des mots générés sont orthographiés correctement."
   ]
  },
  {
   "cell_type": "code",
   "execution_count": null,
   "metadata": {},
   "outputs": [],
   "source": []
  }
 ],
 "metadata": {
  "kernelspec": {
   "display_name": "Python 3",
   "language": "python",
   "name": "python3"
  },
  "language_info": {
   "codemirror_mode": {
    "name": "ipython",
    "version": 3
   },
   "file_extension": ".py",
   "mimetype": "text/x-python",
   "name": "python",
   "nbconvert_exporter": "python",
   "pygments_lexer": "ipython3",
   "version": "3.7.4"
  }
 },
 "nbformat": 4,
 "nbformat_minor": 2
}
